{
 "cells": [
  {
   "cell_type": "markdown",
   "metadata": {},
   "source": [
    "# symmetry-representation"
   ]
  },
  {
   "cell_type": "markdown",
   "metadata": {
    "heading_collapsed": true
   },
   "source": [
    "## Setup"
   ]
  },
  {
   "cell_type": "markdown",
   "metadata": {
    "hidden": true
   },
   "source": [
    "Install symmetry-representation via pip:"
   ]
  },
  {
   "cell_type": "code",
   "execution_count": 1,
   "metadata": {
    "code_folding": [],
    "hidden": true,
    "scrolled": true
   },
   "outputs": [
    {
     "name": "stdout",
     "output_type": "stream",
     "text": [
      "Requirement already satisfied: symmetry-representation in /home/greschd/.virtualenvs/tools_intro/lib/python3.6/site-packages (0.3.1)\n",
      "Requirement already satisfied: sympy in /home/greschd/.virtualenvs/tools_intro/lib/python3.6/site-packages (from symmetry-representation) (1.3)\n",
      "Requirement already satisfied: fsc.hdf5-io>=0.5 in /home/greschd/.virtualenvs/tools_intro/lib/python3.6/site-packages (from symmetry-representation) (0.5.0)\n",
      "Requirement already satisfied: fsc.export in /home/greschd/.virtualenvs/tools_intro/lib/python3.6/site-packages (from symmetry-representation) (1.1.0)\n",
      "Requirement already satisfied: h5py in /home/greschd/.virtualenvs/tools_intro/lib/python3.6/site-packages (from symmetry-representation) (2.9.0)\n",
      "Requirement already satisfied: pymatgen in /home/greschd/.virtualenvs/tools_intro/lib/python3.6/site-packages (from symmetry-representation) (2019.1.24)\n",
      "Requirement already satisfied: click>=7.0 in /home/greschd/.virtualenvs/tools_intro/lib/python3.6/site-packages (from symmetry-representation) (7.0)\n",
      "Requirement already satisfied: numpy in /home/greschd/.virtualenvs/tools_intro/lib/python3.6/site-packages (from symmetry-representation) (1.16.0)\n",
      "Requirement already satisfied: mpmath>=0.19 in /home/greschd/.virtualenvs/tools_intro/lib/python3.6/site-packages (from sympy->symmetry-representation) (1.1.0)\n",
      "Requirement already satisfied: decorator in /home/greschd/.virtualenvs/tools_intro/lib/python3.6/site-packages (from fsc.hdf5-io>=0.5->symmetry-representation) (4.3.2)\n",
      "Requirement already satisfied: six in /home/greschd/.virtualenvs/tools_intro/lib/python3.6/site-packages (from h5py->symmetry-representation) (1.12.0)\n",
      "Requirement already satisfied: networkx>=2.1 in /home/greschd/.virtualenvs/tools_intro/lib/python3.6/site-packages (from pymatgen->symmetry-representation) (2.2)\n",
      "Requirement already satisfied: scipy>=1.0.1 in /home/greschd/.virtualenvs/tools_intro/lib/python3.6/site-packages (from pymatgen->symmetry-representation) (1.2.0)\n",
      "Requirement already satisfied: tabulate in /home/greschd/.virtualenvs/tools_intro/lib/python3.6/site-packages (from pymatgen->symmetry-representation) (0.8.3)\n",
      "Requirement already satisfied: monty>=0.9.6 in /home/greschd/.virtualenvs/tools_intro/lib/python3.6/site-packages (from pymatgen->symmetry-representation) (1.0.5)\n",
      "Requirement already satisfied: palettable>=2.1.1 in /home/greschd/.virtualenvs/tools_intro/lib/python3.6/site-packages (from pymatgen->symmetry-representation) (3.1.1)\n",
      "Requirement already satisfied: requests in /home/greschd/.virtualenvs/tools_intro/lib/python3.6/site-packages (from pymatgen->symmetry-representation) (2.21.0)\n",
      "Requirement already satisfied: pydispatcher>=2.0.5 in /home/greschd/.virtualenvs/tools_intro/lib/python3.6/site-packages (from pymatgen->symmetry-representation) (2.0.5)\n",
      "Requirement already satisfied: spglib>=1.9.9.44 in /home/greschd/.virtualenvs/tools_intro/lib/python3.6/site-packages (from pymatgen->symmetry-representation) (1.12.0.post3)\n",
      "Requirement already satisfied: ruamel.yaml>=0.15.6 in /home/greschd/.virtualenvs/tools_intro/lib/python3.6/site-packages (from pymatgen->symmetry-representation) (0.15.87)\n",
      "Requirement already satisfied: matplotlib>=1.5 in /home/greschd/.virtualenvs/tools_intro/lib/python3.6/site-packages (from pymatgen->symmetry-representation) (3.0.2)\n",
      "Requirement already satisfied: pandas in /home/greschd/.virtualenvs/tools_intro/lib/python3.6/site-packages (from pymatgen->symmetry-representation) (0.24.0)\n",
      "Requirement already satisfied: chardet<3.1.0,>=3.0.2 in /home/greschd/.virtualenvs/tools_intro/lib/python3.6/site-packages (from requests->pymatgen->symmetry-representation) (3.0.4)\n",
      "Requirement already satisfied: idna<2.9,>=2.5 in /home/greschd/.virtualenvs/tools_intro/lib/python3.6/site-packages (from requests->pymatgen->symmetry-representation) (2.8)\n",
      "Requirement already satisfied: certifi>=2017.4.17 in /home/greschd/.virtualenvs/tools_intro/lib/python3.6/site-packages (from requests->pymatgen->symmetry-representation) (2018.11.29)\n",
      "Requirement already satisfied: urllib3<1.25,>=1.21.1 in /home/greschd/.virtualenvs/tools_intro/lib/python3.6/site-packages (from requests->pymatgen->symmetry-representation) (1.24.1)\n",
      "Requirement already satisfied: kiwisolver>=1.0.1 in /home/greschd/.virtualenvs/tools_intro/lib/python3.6/site-packages (from matplotlib>=1.5->pymatgen->symmetry-representation) (1.0.1)\n",
      "Requirement already satisfied: cycler>=0.10 in /home/greschd/.virtualenvs/tools_intro/lib/python3.6/site-packages (from matplotlib>=1.5->pymatgen->symmetry-representation) (0.10.0)\n",
      "Requirement already satisfied: pyparsing!=2.0.4,!=2.1.2,!=2.1.6,>=2.0.1 in /home/greschd/.virtualenvs/tools_intro/lib/python3.6/site-packages (from matplotlib>=1.5->pymatgen->symmetry-representation) (2.3.1)\n",
      "Requirement already satisfied: python-dateutil>=2.1 in /home/greschd/.virtualenvs/tools_intro/lib/python3.6/site-packages (from matplotlib>=1.5->pymatgen->symmetry-representation) (2.7.5)\n",
      "Requirement already satisfied: pytz>=2011k in /home/greschd/.virtualenvs/tools_intro/lib/python3.6/site-packages (from pandas->pymatgen->symmetry-representation) (2018.9)\n",
      "Requirement already satisfied: setuptools in /home/greschd/.virtualenvs/tools_intro/lib/python3.6/site-packages (from kiwisolver>=1.0.1->matplotlib>=1.5->pymatgen->symmetry-representation) (40.7.1)\n"
     ]
    }
   ],
   "source": [
    "%%bash\n",
    "pip install symmetry-representation"
   ]
  },
  {
   "cell_type": "code",
   "execution_count": 2,
   "metadata": {
    "hidden": true
   },
   "outputs": [],
   "source": [
    "import symmetry_representation as sr\n",
    "import numpy as np\n",
    "import sympy as sp"
   ]
  },
  {
   "cell_type": "markdown",
   "metadata": {
    "heading_collapsed": true
   },
   "source": [
    "## A minimal example"
   ]
  },
  {
   "cell_type": "markdown",
   "metadata": {
    "hidden": true
   },
   "source": [
    "Create a symmetry operation with rotation matrix (in reduced coordinates):\n",
    "\n",
    "$$\\begin{pmatrix}0 & 1& 0 \\\\ 1 & 0 & 0 \\\\ 0 & 0 & 1 \\end{pmatrix}$$\n",
    "\n",
    "and a representation for a two-orbital system \n",
    "\n",
    "$$D_g = \\begin{pmatrix}0 & 1 \\\\ 1 & 0 \\end{pmatrix}$$"
   ]
  },
  {
   "cell_type": "code",
   "execution_count": 4,
   "metadata": {
    "hidden": true
   },
   "outputs": [],
   "source": []
  },
  {
   "cell_type": "markdown",
   "metadata": {
    "heading_collapsed": true
   },
   "source": [
    "## A more realistic example"
   ]
  },
  {
   "cell_type": "markdown",
   "metadata": {
    "hidden": true
   },
   "source": [
    "Representations can be automatically generated from ``Orbitals`` objects describing the underlying model."
   ]
  },
  {
   "cell_type": "markdown",
   "metadata": {
    "heading_collapsed": true
   },
   "source": [
    "## Use pymatgen to create the symmetry operators"
   ]
  },
  {
   "cell_type": "code",
   "execution_count": 15,
   "metadata": {
    "hidden": true
   },
   "outputs": [],
   "source": [
    "%%capture\n",
    "%%bash\n",
    "pip install pymatgen"
   ]
  },
  {
   "cell_type": "code",
   "execution_count": 16,
   "metadata": {
    "hidden": true
   },
   "outputs": [],
   "source": [
    "import pymatgen as mg"
   ]
  }
 ],
 "metadata": {
  "kernelspec": {
   "display_name": "tools_intro_clean",
   "language": "python",
   "name": "tools_intro_clean"
  },
  "language_info": {
   "codemirror_mode": {
    "name": "ipython",
    "version": 3
   },
   "file_extension": ".py",
   "mimetype": "text/x-python",
   "name": "python",
   "nbconvert_exporter": "python",
   "pygments_lexer": "ipython3",
   "version": "3.6.7"
  }
 },
 "nbformat": 4,
 "nbformat_minor": 2
}
