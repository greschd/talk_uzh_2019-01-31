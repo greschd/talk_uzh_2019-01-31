{
 "cells": [
  {
   "cell_type": "markdown",
   "metadata": {},
   "source": [
    "# symmetry-representation"
   ]
  },
  {
   "cell_type": "markdown",
   "metadata": {
    "heading_collapsed": true
   },
   "source": [
    "## Setup"
   ]
  },
  {
   "cell_type": "markdown",
   "metadata": {
    "hidden": true
   },
   "source": [
    "Install symmetry-representation via pip:"
   ]
  },
  {
   "cell_type": "code",
   "execution_count": 1,
   "metadata": {
    "code_folding": [],
    "hidden": true,
    "scrolled": true
   },
   "outputs": [
    {
     "name": "stdout",
     "output_type": "stream",
     "text": [
      "Requirement already satisfied: symmetry-representation in /home/greschd/.virtualenvs/tools_intro/lib/python3.6/site-packages (0.3.1)\n",
      "Requirement already satisfied: sympy in /home/greschd/.virtualenvs/tools_intro/lib/python3.6/site-packages (from symmetry-representation) (1.3)\n",
      "Requirement already satisfied: fsc.hdf5-io>=0.5 in /home/greschd/.virtualenvs/tools_intro/lib/python3.6/site-packages (from symmetry-representation) (0.5.0)\n",
      "Requirement already satisfied: fsc.export in /home/greschd/.virtualenvs/tools_intro/lib/python3.6/site-packages (from symmetry-representation) (1.1.0)\n",
      "Requirement already satisfied: h5py in /home/greschd/.virtualenvs/tools_intro/lib/python3.6/site-packages (from symmetry-representation) (2.9.0)\n",
      "Requirement already satisfied: pymatgen in /home/greschd/.virtualenvs/tools_intro/lib/python3.6/site-packages (from symmetry-representation) (2019.1.24)\n",
      "Requirement already satisfied: click>=7.0 in /home/greschd/.virtualenvs/tools_intro/lib/python3.6/site-packages (from symmetry-representation) (7.0)\n",
      "Requirement already satisfied: numpy in /home/greschd/.virtualenvs/tools_intro/lib/python3.6/site-packages (from symmetry-representation) (1.16.0)\n",
      "Requirement already satisfied: mpmath>=0.19 in /home/greschd/.virtualenvs/tools_intro/lib/python3.6/site-packages (from sympy->symmetry-representation) (1.1.0)\n",
      "Requirement already satisfied: decorator in /home/greschd/.virtualenvs/tools_intro/lib/python3.6/site-packages (from fsc.hdf5-io>=0.5->symmetry-representation) (4.3.2)\n",
      "Requirement already satisfied: six in /home/greschd/.virtualenvs/tools_intro/lib/python3.6/site-packages (from h5py->symmetry-representation) (1.12.0)\n",
      "Requirement already satisfied: networkx>=2.1 in /home/greschd/.virtualenvs/tools_intro/lib/python3.6/site-packages (from pymatgen->symmetry-representation) (2.2)\n",
      "Requirement already satisfied: scipy>=1.0.1 in /home/greschd/.virtualenvs/tools_intro/lib/python3.6/site-packages (from pymatgen->symmetry-representation) (1.2.0)\n",
      "Requirement already satisfied: tabulate in /home/greschd/.virtualenvs/tools_intro/lib/python3.6/site-packages (from pymatgen->symmetry-representation) (0.8.3)\n",
      "Requirement already satisfied: monty>=0.9.6 in /home/greschd/.virtualenvs/tools_intro/lib/python3.6/site-packages (from pymatgen->symmetry-representation) (1.0.5)\n",
      "Requirement already satisfied: palettable>=2.1.1 in /home/greschd/.virtualenvs/tools_intro/lib/python3.6/site-packages (from pymatgen->symmetry-representation) (3.1.1)\n",
      "Requirement already satisfied: requests in /home/greschd/.virtualenvs/tools_intro/lib/python3.6/site-packages (from pymatgen->symmetry-representation) (2.21.0)\n",
      "Requirement already satisfied: pydispatcher>=2.0.5 in /home/greschd/.virtualenvs/tools_intro/lib/python3.6/site-packages (from pymatgen->symmetry-representation) (2.0.5)\n",
      "Requirement already satisfied: spglib>=1.9.9.44 in /home/greschd/.virtualenvs/tools_intro/lib/python3.6/site-packages (from pymatgen->symmetry-representation) (1.12.0.post3)\n",
      "Requirement already satisfied: ruamel.yaml>=0.15.6 in /home/greschd/.virtualenvs/tools_intro/lib/python3.6/site-packages (from pymatgen->symmetry-representation) (0.15.87)\n",
      "Requirement already satisfied: matplotlib>=1.5 in /home/greschd/.virtualenvs/tools_intro/lib/python3.6/site-packages (from pymatgen->symmetry-representation) (3.0.2)\n",
      "Requirement already satisfied: pandas in /home/greschd/.virtualenvs/tools_intro/lib/python3.6/site-packages (from pymatgen->symmetry-representation) (0.24.0)\n",
      "Requirement already satisfied: chardet<3.1.0,>=3.0.2 in /home/greschd/.virtualenvs/tools_intro/lib/python3.6/site-packages (from requests->pymatgen->symmetry-representation) (3.0.4)\n",
      "Requirement already satisfied: idna<2.9,>=2.5 in /home/greschd/.virtualenvs/tools_intro/lib/python3.6/site-packages (from requests->pymatgen->symmetry-representation) (2.8)\n",
      "Requirement already satisfied: certifi>=2017.4.17 in /home/greschd/.virtualenvs/tools_intro/lib/python3.6/site-packages (from requests->pymatgen->symmetry-representation) (2018.11.29)\n",
      "Requirement already satisfied: urllib3<1.25,>=1.21.1 in /home/greschd/.virtualenvs/tools_intro/lib/python3.6/site-packages (from requests->pymatgen->symmetry-representation) (1.24.1)\n",
      "Requirement already satisfied: kiwisolver>=1.0.1 in /home/greschd/.virtualenvs/tools_intro/lib/python3.6/site-packages (from matplotlib>=1.5->pymatgen->symmetry-representation) (1.0.1)\n",
      "Requirement already satisfied: cycler>=0.10 in /home/greschd/.virtualenvs/tools_intro/lib/python3.6/site-packages (from matplotlib>=1.5->pymatgen->symmetry-representation) (0.10.0)\n",
      "Requirement already satisfied: pyparsing!=2.0.4,!=2.1.2,!=2.1.6,>=2.0.1 in /home/greschd/.virtualenvs/tools_intro/lib/python3.6/site-packages (from matplotlib>=1.5->pymatgen->symmetry-representation) (2.3.1)\n",
      "Requirement already satisfied: python-dateutil>=2.1 in /home/greschd/.virtualenvs/tools_intro/lib/python3.6/site-packages (from matplotlib>=1.5->pymatgen->symmetry-representation) (2.7.5)\n",
      "Requirement already satisfied: pytz>=2011k in /home/greschd/.virtualenvs/tools_intro/lib/python3.6/site-packages (from pandas->pymatgen->symmetry-representation) (2018.9)\n",
      "Requirement already satisfied: setuptools in /home/greschd/.virtualenvs/tools_intro/lib/python3.6/site-packages (from kiwisolver>=1.0.1->matplotlib>=1.5->pymatgen->symmetry-representation) (40.7.1)\n"
     ]
    }
   ],
   "source": [
    "%%bash\n",
    "pip install symmetry-representation"
   ]
  },
  {
   "cell_type": "code",
   "execution_count": 2,
   "metadata": {
    "hidden": true
   },
   "outputs": [],
   "source": [
    "import symmetry_representation as sr\n",
    "import numpy as np\n",
    "import sympy as sp"
   ]
  },
  {
   "cell_type": "markdown",
   "metadata": {
    "heading_collapsed": true
   },
   "source": [
    "## A minimal example"
   ]
  },
  {
   "cell_type": "markdown",
   "metadata": {
    "hidden": true
   },
   "source": [
    "Create a symmetry operation with rotation matrix (in reduced coordinates):\n",
    "\n",
    "$$\\begin{pmatrix}0 & 1& 0 \\\\ 1 & 0 & 0 \\\\ 0 & 0 & 1 \\end{pmatrix}$$\n",
    "\n",
    "and a representation for a two-orbital system \n",
    "\n",
    "$$D_g = \\begin{pmatrix}0 & 1 \\\\ 1 & 0 \\end{pmatrix}$$"
   ]
  },
  {
   "cell_type": "code",
   "execution_count": 3,
   "metadata": {
    "hidden": true
   },
   "outputs": [],
   "source": [
    "sr.SymmetryOperation?"
   ]
  },
  {
   "cell_type": "code",
   "execution_count": 4,
   "metadata": {
    "hidden": true
   },
   "outputs": [],
   "source": [
    "sym_op = sr.SymmetryOperation(\n",
    "    rotation_matrix=[[0, 1, 0], [1, 0, 0], [0, 0, 1]],\n",
    "    repr_matrix=[[0, 1], [1, 0]])"
   ]
  },
  {
   "cell_type": "markdown",
   "metadata": {
    "hidden": true
   },
   "source": [
    "Attributes of the symmetry operation: ``real_space_operator`` and ``repr``."
   ]
  },
  {
   "cell_type": "code",
   "execution_count": 5,
   "metadata": {
    "hidden": true
   },
   "outputs": [
    {
     "data": {
      "text/plain": [
       "RealSpaceOperator(numeric=True, rotation_matrix=array([[0., 1., 0.],\n",
       "       [1., 0., 0.],\n",
       "       [0., 0., 1.]]), translation_vector=array([0., 0., 0.]))"
      ]
     },
     "execution_count": 5,
     "metadata": {},
     "output_type": "execute_result"
    }
   ],
   "source": [
    "sym_op.real_space_operator"
   ]
  },
  {
   "cell_type": "code",
   "execution_count": 6,
   "metadata": {
    "hidden": true
   },
   "outputs": [
    {
     "data": {
      "text/plain": [
       "Representation(has_cc=False, matrix=array([[0.+0.j, 1.+0.j],\n",
       "       [1.+0.j, 0.+0.j]]), numeric=True)"
      ]
     },
     "execution_count": 6,
     "metadata": {},
     "output_type": "execute_result"
    }
   ],
   "source": [
    "sym_op.repr"
   ]
  },
  {
   "cell_type": "markdown",
   "metadata": {
    "heading_collapsed": true
   },
   "source": [
    "## A more realistic example"
   ]
  },
  {
   "cell_type": "markdown",
   "metadata": {
    "hidden": true
   },
   "source": [
    "Representations can be automatically generated from ``Orbitals`` objects describing the underlying model."
   ]
  },
  {
   "cell_type": "code",
   "execution_count": 7,
   "metadata": {
    "hidden": true
   },
   "outputs": [],
   "source": [
    "sr.Orbital?"
   ]
  },
  {
   "cell_type": "code",
   "execution_count": 8,
   "metadata": {
    "hidden": true
   },
   "outputs": [
    {
     "data": {
      "text/plain": [
       "Orbital(function=1, function_string='1', position=array([0, 0, 0]), spin=Spin(total=Fraction(1, 2), z_component=Fraction(1, 2)))"
      ]
     },
     "execution_count": 8,
     "metadata": {},
     "output_type": "execute_result"
    }
   ],
   "source": [
    "sr.Orbital(position=(0, 0, 0), function_string='1', spin=sr.SPIN_UP)"
   ]
  },
  {
   "cell_type": "code",
   "execution_count": 9,
   "metadata": {
    "hidden": true
   },
   "outputs": [
    {
     "data": {
      "text/plain": [
       "['z', 'x', 'y']"
      ]
     },
     "execution_count": 9,
     "metadata": {},
     "output_type": "execute_result"
    }
   ],
   "source": [
    "sr.WANNIER_ORBITALS['p']"
   ]
  },
  {
   "cell_type": "code",
   "execution_count": 10,
   "metadata": {
    "hidden": true
   },
   "outputs": [],
   "source": [
    "orbitals = []\n",
    "for spin in (sr.SPIN_UP, sr.SPIN_DOWN):\n",
    "    for pos, orbital_funcs in [((0, 0, 0), sr.WANNIER_ORBITALS['p']),\n",
    "                               ((0.25, 0.25, 0.25), sr.WANNIER_ORBITALS['s'])]:\n",
    "        for orb_func in orbital_funcs:\n",
    "            orbitals.append(\n",
    "                sr.Orbital(position=pos, function_string=orb_func, spin=spin))"
   ]
  },
  {
   "cell_type": "code",
   "execution_count": 11,
   "metadata": {
    "hidden": true
   },
   "outputs": [
    {
     "data": {
      "text/plain": [
       "[Orbital(function=z, function_string='z', position=array([0, 0, 0]), spin=Spin(total=Fraction(1, 2), z_component=Fraction(1, 2))),\n",
       " Orbital(function=x, function_string='x', position=array([0, 0, 0]), spin=Spin(total=Fraction(1, 2), z_component=Fraction(1, 2))),\n",
       " Orbital(function=y, function_string='y', position=array([0, 0, 0]), spin=Spin(total=Fraction(1, 2), z_component=Fraction(1, 2))),\n",
       " Orbital(function=1, function_string='1', position=array([0.25, 0.25, 0.25]), spin=Spin(total=Fraction(1, 2), z_component=Fraction(1, 2))),\n",
       " Orbital(function=z, function_string='z', position=array([0, 0, 0]), spin=Spin(total=Fraction(1, 2), z_component=Fraction(-1, 2))),\n",
       " Orbital(function=x, function_string='x', position=array([0, 0, 0]), spin=Spin(total=Fraction(1, 2), z_component=Fraction(-1, 2))),\n",
       " Orbital(function=y, function_string='y', position=array([0, 0, 0]), spin=Spin(total=Fraction(1, 2), z_component=Fraction(-1, 2))),\n",
       " Orbital(function=1, function_string='1', position=array([0.25, 0.25, 0.25]), spin=Spin(total=Fraction(1, 2), z_component=Fraction(-1, 2)))]"
      ]
     },
     "execution_count": 11,
     "metadata": {},
     "output_type": "execute_result"
    }
   ],
   "source": [
    "orbitals"
   ]
  },
  {
   "cell_type": "code",
   "execution_count": 12,
   "metadata": {
    "hidden": true
   },
   "outputs": [],
   "source": [
    "sr.SymmetryOperation.from_orbitals?"
   ]
  },
  {
   "cell_type": "code",
   "execution_count": 13,
   "metadata": {
    "hidden": true
   },
   "outputs": [
    {
     "data": {
      "text/plain": [
       "SymmetryOperation(real_space_operator=RealSpaceOperator(numeric=True, rotation_matrix=array([[0., 1., 0.],\n",
       "       [1., 0., 0.],\n",
       "       [0., 0., 1.]]), translation_vector=array([0., 0., 0.])), repr=Representation(has_cc=False, matrix=array([[0.+0.00000000e+00j, 0.+0.00000000e+00j, 0.+0.00000000e+00j,\n",
       "        0.+0.00000000e+00j, 0.-1.00000000e+00j, 0.+1.16056800e-16j,\n",
       "        0.+2.40575552e-16j, 0.+0.00000000e+00j],\n",
       "       [0.+0.00000000e+00j, 0.+0.00000000e+00j, 0.+0.00000000e+00j,\n",
       "        0.+0.00000000e+00j, 0.-2.19368200e-16j, 0.+1.00000000e+00j,\n",
       "        0.+1.11022302e-16j, 0.+0.00000000e+00j],\n",
       "       [0.+0.00000000e+00j, 0.+0.00000000e+00j, 0.+0.00000000e+00j,\n",
       "        0.+0.00000000e+00j, 0.+1.16385335e-16j, 0.+5.55111512e-17j,\n",
       "        0.-1.00000000e+00j, 0.+0.00000000e+00j],\n",
       "       [0.+0.00000000e+00j, 0.+0.00000000e+00j, 0.+0.00000000e+00j,\n",
       "        0.+0.00000000e+00j, 0.+0.00000000e+00j, 0.+0.00000000e+00j,\n",
       "        0.+0.00000000e+00j, 0.-1.00000000e+00j],\n",
       "       [0.-1.00000000e+00j, 0.-1.20838237e-15j, 0.+2.23525553e-16j,\n",
       "        0.+0.00000000e+00j, 0.+0.00000000e+00j, 0.+0.00000000e+00j,\n",
       "        0.+0.00000000e+00j, 0.+0.00000000e+00j],\n",
       "       [0.+3.75082390e-16j, 0.+1.00000000e+00j, 0.-3.33066907e-16j,\n",
       "        0.+0.00000000e+00j, 0.+0.00000000e+00j, 0.+0.00000000e+00j,\n",
       "        0.+0.00000000e+00j, 0.+0.00000000e+00j],\n",
       "       [0.-1.04823276e-16j, 0.+1.44328993e-15j, 0.-1.00000000e+00j,\n",
       "        0.+0.00000000e+00j, 0.+0.00000000e+00j, 0.+0.00000000e+00j,\n",
       "        0.+0.00000000e+00j, 0.+0.00000000e+00j],\n",
       "       [0.+0.00000000e+00j, 0.+0.00000000e+00j, 0.+0.00000000e+00j,\n",
       "        0.-1.00000000e+00j, 0.+0.00000000e+00j, 0.+0.00000000e+00j,\n",
       "        0.+0.00000000e+00j, 0.+0.00000000e+00j]]), numeric=True))"
      ]
     },
     "execution_count": 13,
     "metadata": {},
     "output_type": "execute_result"
    }
   ],
   "source": [
    "sr.SymmetryOperation.from_orbitals(\n",
    "    orbitals=orbitals,\n",
    "    real_space_operator=sr.RealSpaceOperator(\n",
    "        rotation_matrix=[[0, 1, 0], [1, 0, 0], [0, 0, 1]]),\n",
    "    rotation_matrix_cartesian=np.diag([-1, 1, 1]),\n",
    "    numeric=True)"
   ]
  },
  {
   "cell_type": "markdown",
   "metadata": {
    "hidden": true
   },
   "source": [
    "To create a result with ``sympy`` matrices instead of ``numpy`` arrays, set ``numeric=False``. Do **not** mix the two, they don't like each other."
   ]
  },
  {
   "cell_type": "code",
   "execution_count": 14,
   "metadata": {
    "hidden": true
   },
   "outputs": [
    {
     "data": {
      "text/plain": [
       "SymmetryOperation(real_space_operator=RealSpaceOperator(numeric=False, rotation_matrix=Matrix([\n",
       "[0, 1, 0],\n",
       "[1, 0, 0],\n",
       "[0, 0, 1]]), translation_vector=Matrix([\n",
       "[0],\n",
       "[0],\n",
       "[0]])), repr=Representation(has_cc=False, matrix=Matrix([\n",
       "[ 0, 0,  0,  0, -I, 0,  0,  0],\n",
       "[ 0, 0,  0,  0,  0, I,  0,  0],\n",
       "[ 0, 0,  0,  0,  0, 0, -I,  0],\n",
       "[ 0, 0,  0,  0,  0, 0,  0, -I],\n",
       "[-I, 0,  0,  0,  0, 0,  0,  0],\n",
       "[ 0, I,  0,  0,  0, 0,  0,  0],\n",
       "[ 0, 0, -I,  0,  0, 0,  0,  0],\n",
       "[ 0, 0,  0, -I,  0, 0,  0,  0]]), numeric=False))"
      ]
     },
     "execution_count": 14,
     "metadata": {},
     "output_type": "execute_result"
    }
   ],
   "source": [
    "sr.SymmetryOperation.from_orbitals(\n",
    "    orbitals=orbitals,\n",
    "    real_space_operator=sr.RealSpaceOperator(\n",
    "        rotation_matrix=sp.Matrix([[0, 1, 0], [1, 0, 0], [0, 0, 1]])),\n",
    "    rotation_matrix_cartesian=np.diag([-1, 1, 1]),\n",
    "    numeric=False)"
   ]
  },
  {
   "cell_type": "markdown",
   "metadata": {
    "heading_collapsed": true
   },
   "source": [
    "## Use pymatgen to create the symmetry operators"
   ]
  },
  {
   "cell_type": "code",
   "execution_count": 15,
   "metadata": {
    "hidden": true
   },
   "outputs": [],
   "source": [
    "%%capture\n",
    "%%bash\n",
    "pip install pymatgen"
   ]
  },
  {
   "cell_type": "code",
   "execution_count": 16,
   "metadata": {
    "hidden": true
   },
   "outputs": [],
   "source": [
    "import pymatgen as mg"
   ]
  },
  {
   "cell_type": "code",
   "execution_count": 17,
   "metadata": {
    "hidden": true
   },
   "outputs": [
    {
     "name": "stderr",
     "output_type": "stream",
     "text": [
      "/home/greschd/.virtualenvs/tools_intro/lib/python3.6/site-packages/pymatgen/io/cif.py:37: UserWarning: Please install optional dependency pybtex if youwant to extract references from CIF files.\n",
      "  warnings.warn(\"Please install optional dependency pybtex if you\"\n"
     ]
    }
   ],
   "source": [
    "structure = mg.Structure.from_file('POSCAR')"
   ]
  },
  {
   "cell_type": "code",
   "execution_count": 18,
   "metadata": {
    "hidden": true
   },
   "outputs": [],
   "source": [
    "analyzer = mg.symmetry.analyzer.SpacegroupAnalyzer(structure)"
   ]
  },
  {
   "cell_type": "code",
   "execution_count": 19,
   "metadata": {
    "hidden": true
   },
   "outputs": [],
   "source": [
    "symmetries_reduced = analyzer.get_symmetry_operations()"
   ]
  },
  {
   "cell_type": "code",
   "execution_count": 20,
   "metadata": {
    "hidden": true
   },
   "outputs": [],
   "source": [
    "symmetries_cartesian = analyzer.get_symmetry_operations(cartesian=True)"
   ]
  },
  {
   "cell_type": "code",
   "execution_count": 21,
   "metadata": {
    "hidden": true
   },
   "outputs": [
    {
     "data": {
      "text/plain": [
       "[PeriodicSite: In (0.0000, 0.0000, 0.0000) [0.0000, 0.0000, 0.0000],\n",
       " PeriodicSite: Sb (1.6198, 1.6198, 1.6198) [0.2500, 0.2500, 0.2500]]"
      ]
     },
     "execution_count": 21,
     "metadata": {},
     "output_type": "execute_result"
    }
   ],
   "source": [
    "structure.sites"
   ]
  },
  {
   "cell_type": "code",
   "execution_count": 22,
   "metadata": {
    "hidden": true
   },
   "outputs": [],
   "source": [
    "site = structure.sites[1]"
   ]
  },
  {
   "cell_type": "code",
   "execution_count": 23,
   "metadata": {
    "hidden": true
   },
   "outputs": [
    {
     "data": {
      "text/plain": [
       "'Sb'"
      ]
     },
     "execution_count": 23,
     "metadata": {},
     "output_type": "execute_result"
    }
   ],
   "source": [
    "site.species_string"
   ]
  },
  {
   "cell_type": "code",
   "execution_count": 24,
   "metadata": {
    "hidden": true
   },
   "outputs": [
    {
     "data": {
      "text/plain": [
       "array([0.25, 0.25, 0.25])"
      ]
     },
     "execution_count": 24,
     "metadata": {},
     "output_type": "execute_result"
    }
   ],
   "source": [
    "site.frac_coords"
   ]
  },
  {
   "cell_type": "code",
   "execution_count": 25,
   "metadata": {
    "hidden": true
   },
   "outputs": [],
   "source": [
    "orbital_func_mapping = {\n",
    "    'In': sr.WANNIER_ORBITALS['s'] + sr.WANNIER_ORBITALS['p'],\n",
    "    'Sb': sr.WANNIER_ORBITALS['p']\n",
    "}"
   ]
  },
  {
   "cell_type": "code",
   "execution_count": 26,
   "metadata": {
    "hidden": true
   },
   "outputs": [],
   "source": [
    "orbitals = []\n",
    "for spin in (sr.SPIN_UP, sr.SPIN_DOWN):\n",
    "    for site in structure.sites:\n",
    "        for orb_func in orbital_func_mapping[site.species_string]:\n",
    "            orbitals.append(sr.Orbital(position=site.frac_coords, function_string=orb_func, spin=spin))"
   ]
  },
  {
   "cell_type": "code",
   "execution_count": 27,
   "metadata": {
    "hidden": true
   },
   "outputs": [
    {
     "data": {
      "text/plain": [
       "[Orbital(function=1, function_string='1', position=array([0., 0., 0.]), spin=Spin(total=Fraction(1, 2), z_component=Fraction(1, 2))),\n",
       " Orbital(function=z, function_string='z', position=array([0., 0., 0.]), spin=Spin(total=Fraction(1, 2), z_component=Fraction(1, 2))),\n",
       " Orbital(function=x, function_string='x', position=array([0., 0., 0.]), spin=Spin(total=Fraction(1, 2), z_component=Fraction(1, 2))),\n",
       " Orbital(function=y, function_string='y', position=array([0., 0., 0.]), spin=Spin(total=Fraction(1, 2), z_component=Fraction(1, 2))),\n",
       " Orbital(function=z, function_string='z', position=array([0.25, 0.25, 0.25]), spin=Spin(total=Fraction(1, 2), z_component=Fraction(1, 2))),\n",
       " Orbital(function=x, function_string='x', position=array([0.25, 0.25, 0.25]), spin=Spin(total=Fraction(1, 2), z_component=Fraction(1, 2))),\n",
       " Orbital(function=y, function_string='y', position=array([0.25, 0.25, 0.25]), spin=Spin(total=Fraction(1, 2), z_component=Fraction(1, 2))),\n",
       " Orbital(function=1, function_string='1', position=array([0., 0., 0.]), spin=Spin(total=Fraction(1, 2), z_component=Fraction(-1, 2))),\n",
       " Orbital(function=z, function_string='z', position=array([0., 0., 0.]), spin=Spin(total=Fraction(1, 2), z_component=Fraction(-1, 2))),\n",
       " Orbital(function=x, function_string='x', position=array([0., 0., 0.]), spin=Spin(total=Fraction(1, 2), z_component=Fraction(-1, 2))),\n",
       " Orbital(function=y, function_string='y', position=array([0., 0., 0.]), spin=Spin(total=Fraction(1, 2), z_component=Fraction(-1, 2))),\n",
       " Orbital(function=z, function_string='z', position=array([0.25, 0.25, 0.25]), spin=Spin(total=Fraction(1, 2), z_component=Fraction(-1, 2))),\n",
       " Orbital(function=x, function_string='x', position=array([0.25, 0.25, 0.25]), spin=Spin(total=Fraction(1, 2), z_component=Fraction(-1, 2))),\n",
       " Orbital(function=y, function_string='y', position=array([0.25, 0.25, 0.25]), spin=Spin(total=Fraction(1, 2), z_component=Fraction(-1, 2)))]"
      ]
     },
     "execution_count": 27,
     "metadata": {},
     "output_type": "execute_result"
    }
   ],
   "source": [
    "orbitals"
   ]
  },
  {
   "cell_type": "code",
   "execution_count": 28,
   "metadata": {
    "hidden": true
   },
   "outputs": [],
   "source": [
    "sr.SymmetryOperation.from_orbitals?"
   ]
  },
  {
   "cell_type": "code",
   "execution_count": 29,
   "metadata": {
    "hidden": true
   },
   "outputs": [],
   "source": [
    "symmetries = []\n",
    "for sym_red, sym_cart in zip(symmetries_reduced, symmetries_cartesian):\n",
    "    symmetries.append(\n",
    "        sr.SymmetryOperation.from_orbitals(\n",
    "            orbitals=orbitals,\n",
    "            real_space_operator=sr.RealSpaceOperator.from_pymatgen(sym_red),\n",
    "            rotation_matrix_cartesian=sym_cart.rotation_matrix,\n",
    "            numeric=True\n",
    "        )\n",
    "    )"
   ]
  },
  {
   "cell_type": "code",
   "execution_count": 30,
   "metadata": {
    "hidden": true
   },
   "outputs": [],
   "source": [
    "sr.SymmetryGroup?"
   ]
  },
  {
   "cell_type": "code",
   "execution_count": 31,
   "metadata": {
    "hidden": true
   },
   "outputs": [],
   "source": [
    "symmetry_group = sr.SymmetryGroup(symmetries, full_group=True)"
   ]
  },
  {
   "cell_type": "code",
   "execution_count": 32,
   "metadata": {
    "hidden": true
   },
   "outputs": [],
   "source": [
    "time_reversal = sr.get_time_reversal(orbitals=orbitals, numeric=True)"
   ]
  },
  {
   "cell_type": "code",
   "execution_count": 33,
   "metadata": {
    "hidden": true
   },
   "outputs": [],
   "source": [
    "sr.io.save([symmetry_group, time_reversal], 'InSb_sym.hdf5')"
   ]
  },
  {
   "cell_type": "code",
   "execution_count": null,
   "metadata": {
    "hidden": true
   },
   "outputs": [],
   "source": []
  }
 ],
 "metadata": {
  "kernelspec": {
   "display_name": "tools_intro",
   "language": "python",
   "name": "tools_intro"
  },
  "language_info": {
   "codemirror_mode": {
    "name": "ipython",
    "version": 3
   },
   "file_extension": ".py",
   "mimetype": "text/x-python",
   "name": "python",
   "nbconvert_exporter": "python",
   "pygments_lexer": "ipython3",
   "version": "3.6.7"
  }
 },
 "nbformat": 4,
 "nbformat_minor": 2
}
