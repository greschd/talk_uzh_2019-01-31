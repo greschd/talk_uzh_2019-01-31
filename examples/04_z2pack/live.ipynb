{
 "cells": [
  {
   "cell_type": "markdown",
   "metadata": {},
   "source": [
    "# Z2Pack"
   ]
  },
  {
   "cell_type": "markdown",
   "metadata": {
    "heading_collapsed": true
   },
   "source": [
    "## Setup"
   ]
  },
  {
   "cell_type": "code",
   "execution_count": 2,
   "metadata": {
    "hidden": true
   },
   "outputs": [],
   "source": [
    "%%capture\n",
    "%%bash\n",
    "pip install z2pack"
   ]
  },
  {
   "cell_type": "code",
   "execution_count": 4,
   "metadata": {
    "hidden": true
   },
   "outputs": [],
   "source": [
    "import tbmodels\n",
    "import z2pack\n",
    "import lzma"
   ]
  },
  {
   "cell_type": "markdown",
   "metadata": {
    "hidden": true
   },
   "source": [
    "Uncompress HDF5 file"
   ]
  },
  {
   "cell_type": "code",
   "execution_count": 5,
   "metadata": {
    "hidden": true
   },
   "outputs": [],
   "source": [
    "with lzma.open('wte2_soc.tar.xz') as fin, open('wte2_soc.hdf5', 'wb') as fout:\n",
    "    fout.write(fin.read())"
   ]
  },
  {
   "cell_type": "markdown",
   "metadata": {
    "heading_collapsed": true
   },
   "source": [
    "## Calculate Chern number for WTe<sub>2</sub> Weyl node "
   ]
  },
  {
   "cell_type": "code",
   "execution_count": 6,
   "metadata": {
    "hidden": true
   },
   "outputs": [
    {
     "name": "stderr",
     "output_type": "stream",
     "text": [
      "/home/greschd/.virtualenvs/tools_intro/lib/python3.6/site-packages/h5py/_hl/dataset.py:313: H5pyDeprecationWarning: dataset.value has been deprecated. Use dataset[()] instead.\n",
      "  \"Use dataset[()] instead.\", H5pyDeprecationWarning)\n"
     ]
    }
   ],
   "source": [
    "model = tbmodels.io.load('wte2_soc.hdf5')"
   ]
  },
  {
   "cell_type": "markdown",
   "metadata": {
    "hidden": true
   },
   "source": [
    "Calculate the Wannier charge centers on a sphere of radius $r=0.005$ around $\\mathbf{k}=(0.1203, 0.05232, 0)$:"
   ]
  },
  {
   "cell_type": "markdown",
   "metadata": {
    "heading_collapsed": true
   },
   "source": [
    "## $\\mathbb{Z}_2$ Invariant"
   ]
  },
  {
   "cell_type": "markdown",
   "metadata": {
    "hidden": true
   },
   "source": [
    "The procedure for calculating the $\\mathbb{Z}_2$ invariant is the same, except due to the surface should go only across half the Brillouin zone (between two Kramers-degenerate lines)."
   ]
  },
  {
   "cell_type": "markdown",
   "metadata": {
    "hidden": true
   },
   "source": [
    "In this example, we calculate the $\\mathbb{Z}_2$ invariant for a specific set of constants in the Kane-Mele Hamiltonian:"
   ]
  },
  {
   "cell_type": "code",
   "execution_count": 29,
   "metadata": {
    "hidden": true
   },
   "outputs": [],
   "source": [
    "import numpy as np\n",
    "from numpy import sin, cos, kron, sqrt"
   ]
  },
  {
   "cell_type": "code",
   "execution_count": 30,
   "metadata": {
    "hidden": true
   },
   "outputs": [],
   "source": [
    "identity = np.identity(2, dtype=complex)\n",
    "pauli_x = np.array([[0, 1], [1, 0]], dtype=complex)\n",
    "pauli_y = np.array([[0, -1j], [1j, 0]], dtype=complex)\n",
    "pauli_z = np.array([[1, 0], [0, -1]], dtype=complex)"
   ]
  },
  {
   "cell_type": "code",
   "execution_count": 31,
   "metadata": {
    "hidden": true
   },
   "outputs": [],
   "source": [
    "def kane_mele_hamiltonian(k):\n",
    "    # Fixed constants:\n",
    "    t = 1\n",
    "    lambda_v = 0.1\n",
    "    lambda_R = 0.05\n",
    "    lambda_SO = 0.06\n",
    "\n",
    "    k = np.array(k) * 2 * np.pi\n",
    "    kx, ky = k\n",
    "    # change to reduced coordinates\n",
    "    x = (kx - ky) / 2\n",
    "    y = (kx + ky) / 2\n",
    "    return (t * (1 + 2 * cos(x) * cos(y)) * kron(pauli_x, identity) +\n",
    "            lambda_v * kron(pauli_z, identity) +\n",
    "            lambda_R * (1 - cos(x) * cos(y)) * kron(pauli_y, pauli_x) +\n",
    "            -sqrt(3) * lambda_R * sin(x) * sin(y) * kron(pauli_y, pauli_y) +\n",
    "            2 * t * cos(x) * sin(y) * kron(pauli_y, identity) + lambda_SO *\n",
    "            (2 * sin(2 * x) - 4 * sin(x) * cos(y)) * kron(pauli_z, pauli_z) +\n",
    "            lambda_R * cos(x) * sin(y) * kron(pauli_x, pauli_x) +\n",
    "            -sqrt(3) * lambda_R * sin(x) * cos(y) * kron(pauli_x, pauli_y))"
   ]
  }
 ],
 "metadata": {
  "kernelspec": {
   "display_name": "tools_intro_clean",
   "language": "python",
   "name": "tools_intro_clean"
  },
  "language_info": {
   "codemirror_mode": {
    "name": "ipython",
    "version": 3
   },
   "file_extension": ".py",
   "mimetype": "text/x-python",
   "name": "python",
   "nbconvert_exporter": "python",
   "pygments_lexer": "ipython3",
   "version": "3.6.7"
  }
 },
 "nbformat": 4,
 "nbformat_minor": 2
}
