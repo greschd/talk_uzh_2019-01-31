{
 "cells": [
  {
   "cell_type": "markdown",
   "metadata": {},
   "source": [
    "# kdotp-symmetry"
   ]
  },
  {
   "cell_type": "markdown",
   "metadata": {
    "heading_collapsed": true
   },
   "source": [
    "## Setup"
   ]
  },
  {
   "cell_type": "code",
   "execution_count": 2,
   "metadata": {
    "hidden": true
   },
   "outputs": [],
   "source": [
    "%%capture\n",
    "%%bash\n",
    "pip install kdotp-symmetry"
   ]
  },
  {
   "cell_type": "code",
   "execution_count": 6,
   "metadata": {
    "hidden": true
   },
   "outputs": [],
   "source": [
    "import kdotp_symmetry as kp\n",
    "import sympy as sp\n",
    "import symmetry_representation as sr"
   ]
  },
  {
   "cell_type": "markdown",
   "metadata": {
    "heading_collapsed": true
   },
   "source": [
    "## Creating symmetry operations"
   ]
  },
  {
   "cell_type": "markdown",
   "metadata": {
    "hidden": true
   },
   "source": [
    "We will create a basis for the $\\mathbf{k}\\cdot\\mathbf{p}$ model of TaAs$_2$. First, we define (by hand) the appropriate symmetry operations and representations.\n",
    "\n",
    "* Rotation around $y$ \n",
    "    * rotation matrix (reduced coordinates):\n",
    "    $$ C_{2y} = \\begin{pmatrix} 0 & 1 & 0\\\\1 & 0 & 0 \\\\0 & 0 & 1 \\end{pmatrix}$$\n",
    "    * representation matrix:\n",
    "    $$ C_{2y} =  \\operatorname{diag}(i, -i, i, -i)$$\n",
    "* Inversion\n",
    "    * rotation matrix (reduced coordinates):\n",
    "    $$ P = - \\mathbb{1}_{3\\times3} $$\n",
    "    * representation matrix:\n",
    "    $$ P = \\operatorname{diag}(1, 1, -1, -1) $$\n",
    "* Time-reversal\n",
    "    * rotation matrix:\n",
    "    $$ \\mathcal{T} = \\mathbb{1} $$\n",
    "    * representation matrix:\n",
    "    $$ \\mathcal{T} = \\begin{pmatrix} 0 & -1 & 0 & 0\\\\1&0&0&0\\\\0&0&0&-1\\\\0&0&1&0 \\end{pmatrix} \\hat{K} $$"
   ]
  },
  {
   "cell_type": "markdown",
   "metadata": {
    "heading_collapsed": true
   },
   "source": [
    "## Obtaining the k.p basis"
   ]
  }
 ],
 "metadata": {
  "kernelspec": {
   "display_name": "tools_intro_clean",
   "language": "python",
   "name": "tools_intro_clean"
  },
  "language_info": {
   "codemirror_mode": {
    "name": "ipython",
    "version": 3
   },
   "file_extension": ".py",
   "mimetype": "text/x-python",
   "name": "python",
   "nbconvert_exporter": "python",
   "pygments_lexer": "ipython3",
   "version": "3.6.7"
  }
 },
 "nbformat": 4,
 "nbformat_minor": 2
}
