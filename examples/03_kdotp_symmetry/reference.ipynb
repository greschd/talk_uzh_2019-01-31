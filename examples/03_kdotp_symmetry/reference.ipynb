{
 "cells": [
  {
   "cell_type": "markdown",
   "metadata": {},
   "source": [
    "# kdotp-symmetry"
   ]
  },
  {
   "cell_type": "markdown",
   "metadata": {},
   "source": [
    "## Setup"
   ]
  },
  {
   "cell_type": "code",
   "execution_count": 2,
   "metadata": {},
   "outputs": [],
   "source": [
    "%%capture\n",
    "%%bash\n",
    "pip install kdotp-symmetry"
   ]
  },
  {
   "cell_type": "code",
   "execution_count": 6,
   "metadata": {},
   "outputs": [],
   "source": [
    "import kdotp_symmetry as kp\n",
    "import sympy as sp\n",
    "import symmetry_representation as sr"
   ]
  },
  {
   "cell_type": "markdown",
   "metadata": {},
   "source": [
    "   ## Creating symmetry operations"
   ]
  },
  {
   "cell_type": "markdown",
   "metadata": {},
   "source": [
    "We will create a basis for the $\\mathbf{k}\\cdot\\mathbf{p}$ model of TaAs$_2$. First, we define (by hand) the appropriate symmetry operations and representations.\n",
    "\n",
    "* Rotation around $y$ \n",
    "    * rotation matrix (reduced coordinates):\n",
    "    $$ C_{2y} = \\begin{pmatrix} 0 & 1 & 0\\\\1 & 0 & 0 \\\\0 & 0 & 1 \\end{pmatrix}$$\n",
    "    * representation matrix:\n",
    "    $$ C_{2y} =  \\operatorname{diag}(i, -i, i, -i)$$\n",
    "* Inversion\n",
    "    * rotation matrix (reduced coordinates):\n",
    "    $$ P = - \\mathbb{1}_{3\\times3} $$\n",
    "    * representation matrix:\n",
    "    $$ P = \\operatorname{diag}(1, 1, -1, -1) $$\n",
    "* Time-reversal\n",
    "    * rotation matrix:\n",
    "    $$ \\mathcal{T} = \\mathbb{1} $$\n",
    "    * representation matrix:\n",
    "    $$ \\mathcal{T} = \\begin{pmatrix} 0 & -1 & 0 & 0\\\\1&0&0&0\\\\0&0&0&-1\\\\0&0&1&0 \\end{pmatrix} \\hat{K} $$"
   ]
  },
  {
   "cell_type": "code",
   "execution_count": 10,
   "metadata": {},
   "outputs": [],
   "source": [
    "c_2y = sr.SymmetryOperation(\n",
    "    rotation_matrix=sp.Matrix([[0, 1, 0], [1, 0, 0], [0, 0, 1]]),\n",
    "    repr_matrix=sp.diag(sp.I, -sp.I, sp.I, -sp.I))"
   ]
  },
  {
   "cell_type": "code",
   "execution_count": 11,
   "metadata": {},
   "outputs": [],
   "source": [
    "inversion = sr.SymmetryOperation(\n",
    "    rotation_matrix=-sp.eye(3), repr_matrix=sp.diag(1, 1, -1, -1))"
   ]
  },
  {
   "cell_type": "code",
   "execution_count": 12,
   "metadata": {},
   "outputs": [],
   "source": [
    "time_reversal = sr.SymmetryOperation(\n",
    "    rotation_matrix=sp.eye(3),\n",
    "    repr_matrix=sp.Matrix([[0, -1, 0, 0], [1, 0, 0, 0], [0, 0, 0, -1],\n",
    "                           [0, 0, 1, 0]]),\n",
    "    repr_has_cc=True)"
   ]
  },
  {
   "cell_type": "markdown",
   "metadata": {},
   "source": [
    "Notice that we are now using ``sympy`` matrices throughout. That is, all the inputs given here need to be analytically exact."
   ]
  },
  {
   "cell_type": "markdown",
   "metadata": {},
   "source": [
    "## Obtaining the k.p basis"
   ]
  },
  {
   "cell_type": "markdown",
   "metadata": {},
   "source": [
    "First, we need to choose a basis for the $k$-space function and Hermitian matrices:"
   ]
  },
  {
   "cell_type": "code",
   "execution_count": 14,
   "metadata": {},
   "outputs": [],
   "source": [
    "kp.monomial_basis?"
   ]
  },
  {
   "cell_type": "code",
   "execution_count": 16,
   "metadata": {},
   "outputs": [
    {
     "data": {
      "text/plain": [
       "[kx, ky, kz]"
      ]
     },
     "execution_count": 16,
     "metadata": {},
     "output_type": "execute_result"
    }
   ],
   "source": [
    "kp.monomial_basis(1)"
   ]
  },
  {
   "cell_type": "code",
   "execution_count": 18,
   "metadata": {},
   "outputs": [
    {
     "data": {
      "text/plain": [
       "[Matrix([\n",
       " [1, 0],\n",
       " [0, 0]]), Matrix([\n",
       " [0, 0],\n",
       " [0, 1]]), Matrix([\n",
       " [0, 1],\n",
       " [1, 0]]), Matrix([\n",
       " [0, -I],\n",
       " [I,  0]])]"
      ]
     },
     "execution_count": 18,
     "metadata": {},
     "output_type": "execute_result"
    }
   ],
   "source": [
    "kp.hermitian_basis(2)"
   ]
  },
  {
   "cell_type": "markdown",
   "metadata": {},
   "source": [
    "The ``symmetric_hamiltonian`` function does the heavy lifting:"
   ]
  },
  {
   "cell_type": "code",
   "execution_count": 19,
   "metadata": {},
   "outputs": [],
   "source": [
    "kp.symmetric_hamiltonian?"
   ]
  },
  {
   "cell_type": "code",
   "execution_count": 29,
   "metadata": {},
   "outputs": [
    {
     "name": "stdout",
     "output_type": "stream",
     "text": [
      "\n",
      "Order: 0\n",
      "[Matrix([\n",
      "[1, 0, 0, 0],\n",
      "[0, 1, 0, 0],\n",
      "[0, 0, 0, 0],\n",
      "[0, 0, 0, 0]]), Matrix([\n",
      "[0, 0, 0, 0],\n",
      "[0, 0, 0, 0],\n",
      "[0, 0, 1, 0],\n",
      "[0, 0, 0, 1]])]\n",
      "\n",
      "Order: 1\n",
      "[Matrix([\n",
      "[      0,        0, kx + ky,        0],\n",
      "[      0,        0,       0, -kx - ky],\n",
      "[kx + ky,        0,       0,        0],\n",
      "[      0, -kx - ky,       0,        0]]), Matrix([\n",
      "[          0,           0, -I*kx - I*ky,            0],\n",
      "[          0,           0,            0, -I*kx - I*ky],\n",
      "[I*kx + I*ky,           0,            0,            0],\n",
      "[          0, I*kx + I*ky,            0,            0]]), Matrix([\n",
      "[      0,       0,       0, kx - ky],\n",
      "[      0,       0, kx - ky,       0],\n",
      "[      0, kx - ky,       0,       0],\n",
      "[kx - ky,       0,       0,       0]]), Matrix([\n",
      "[          0,            0,           0, -I*kx + I*ky],\n",
      "[          0,            0, I*kx - I*ky,            0],\n",
      "[          0, -I*kx + I*ky,           0,            0],\n",
      "[I*kx - I*ky,            0,           0,            0]]), Matrix([\n",
      "[ 0,   0, kz,   0],\n",
      "[ 0,   0,  0, -kz],\n",
      "[kz,   0,  0,   0],\n",
      "[ 0, -kz,  0,   0]]), Matrix([\n",
      "[   0,    0, -I*kz,     0],\n",
      "[   0,    0,     0, -I*kz],\n",
      "[I*kz,    0,     0,     0],\n",
      "[   0, I*kz,     0,     0]])]\n",
      "\n",
      "Order: 2\n",
      "[Matrix([\n",
      "[kx**2 + ky**2,             0, 0, 0],\n",
      "[            0, kx**2 + ky**2, 0, 0],\n",
      "[            0,             0, 0, 0],\n",
      "[            0,             0, 0, 0]]), Matrix([\n",
      "[0, 0,             0,             0],\n",
      "[0, 0,             0,             0],\n",
      "[0, 0, kx**2 + ky**2,             0],\n",
      "[0, 0,             0, kx**2 + ky**2]]), Matrix([\n",
      "[kx*ky,     0, 0, 0],\n",
      "[    0, kx*ky, 0, 0],\n",
      "[    0,     0, 0, 0],\n",
      "[    0,     0, 0, 0]]), Matrix([\n",
      "[0, 0,     0,     0],\n",
      "[0, 0,     0,     0],\n",
      "[0, 0, kx*ky,     0],\n",
      "[0, 0,     0, kx*ky]]), Matrix([\n",
      "[kx*kz + ky*kz,             0, 0, 0],\n",
      "[            0, kx*kz + ky*kz, 0, 0],\n",
      "[            0,             0, 0, 0],\n",
      "[            0,             0, 0, 0]]), Matrix([\n",
      "[0, 0,             0,             0],\n",
      "[0, 0,             0,             0],\n",
      "[0, 0, kx*kz + ky*kz,             0],\n",
      "[0, 0,             0, kx*kz + ky*kz]]), Matrix([\n",
      "[kz**2,     0, 0, 0],\n",
      "[    0, kz**2, 0, 0],\n",
      "[    0,     0, 0, 0],\n",
      "[    0,     0, 0, 0]]), Matrix([\n",
      "[0, 0,     0,     0],\n",
      "[0, 0,     0,     0],\n",
      "[0, 0, kz**2,     0],\n",
      "[0, 0,     0, kz**2]])]\n"
     ]
    }
   ],
   "source": [
    "for i in range(3):\n",
    "    print('\\nOrder:', i)\n",
    "    print(\n",
    "        kp.symmetric_hamiltonian(c_2y, inversion, time_reversal,\n",
    "                                 expr_basis=kp.monomial_basis(i),\n",
    "                                 repr_basis=kp.hermitian_basis(4)))"
   ]
  },
  {
   "cell_type": "markdown",
   "metadata": {},
   "source": [
    "Drawback: The working basis size grows very quickly when the input basis becomes larger. For example, the following is much slower:"
   ]
  },
  {
   "cell_type": "code",
   "execution_count": 30,
   "metadata": {},
   "outputs": [
    {
     "data": {
      "text/plain": [
       "[Matrix([\n",
       " [1, 0, 0, 0],\n",
       " [0, 1, 0, 0],\n",
       " [0, 0, 0, 0],\n",
       " [0, 0, 0, 0]]), Matrix([\n",
       " [0, 0, 0, 0],\n",
       " [0, 0, 0, 0],\n",
       " [0, 0, 1, 0],\n",
       " [0, 0, 0, 1]]), Matrix([\n",
       " [      0,        0, kx + ky,        0],\n",
       " [      0,        0,       0, -kx - ky],\n",
       " [kx + ky,        0,       0,        0],\n",
       " [      0, -kx - ky,       0,        0]]), Matrix([\n",
       " [          0,           0, -I*kx - I*ky,            0],\n",
       " [          0,           0,            0, -I*kx - I*ky],\n",
       " [I*kx + I*ky,           0,            0,            0],\n",
       " [          0, I*kx + I*ky,            0,            0]]), Matrix([\n",
       " [      0,       0,       0, kx - ky],\n",
       " [      0,       0, kx - ky,       0],\n",
       " [      0, kx - ky,       0,       0],\n",
       " [kx - ky,       0,       0,       0]]), Matrix([\n",
       " [          0,            0,           0, -I*kx + I*ky],\n",
       " [          0,            0, I*kx - I*ky,            0],\n",
       " [          0, -I*kx + I*ky,           0,            0],\n",
       " [I*kx - I*ky,            0,           0,            0]]), Matrix([\n",
       " [ 0,   0, kz,   0],\n",
       " [ 0,   0,  0, -kz],\n",
       " [kz,   0,  0,   0],\n",
       " [ 0, -kz,  0,   0]]), Matrix([\n",
       " [   0,    0, -I*kz,     0],\n",
       " [   0,    0,     0, -I*kz],\n",
       " [I*kz,    0,     0,     0],\n",
       " [   0, I*kz,     0,     0]]), Matrix([\n",
       " [kx**2 + ky**2,             0, 0, 0],\n",
       " [            0, kx**2 + ky**2, 0, 0],\n",
       " [            0,             0, 0, 0],\n",
       " [            0,             0, 0, 0]]), Matrix([\n",
       " [0, 0,             0,             0],\n",
       " [0, 0,             0,             0],\n",
       " [0, 0, kx**2 + ky**2,             0],\n",
       " [0, 0,             0, kx**2 + ky**2]]), Matrix([\n",
       " [kx*ky,     0, 0, 0],\n",
       " [    0, kx*ky, 0, 0],\n",
       " [    0,     0, 0, 0],\n",
       " [    0,     0, 0, 0]]), Matrix([\n",
       " [0, 0,     0,     0],\n",
       " [0, 0,     0,     0],\n",
       " [0, 0, kx*ky,     0],\n",
       " [0, 0,     0, kx*ky]]), Matrix([\n",
       " [kx*kz + ky*kz,             0, 0, 0],\n",
       " [            0, kx*kz + ky*kz, 0, 0],\n",
       " [            0,             0, 0, 0],\n",
       " [            0,             0, 0, 0]]), Matrix([\n",
       " [0, 0,             0,             0],\n",
       " [0, 0,             0,             0],\n",
       " [0, 0, kx*kz + ky*kz,             0],\n",
       " [0, 0,             0, kx*kz + ky*kz]]), Matrix([\n",
       " [kz**2,     0, 0, 0],\n",
       " [    0, kz**2, 0, 0],\n",
       " [    0,     0, 0, 0],\n",
       " [    0,     0, 0, 0]]), Matrix([\n",
       " [0, 0,     0,     0],\n",
       " [0, 0,     0,     0],\n",
       " [0, 0, kz**2,     0],\n",
       " [0, 0,     0, kz**2]])]"
      ]
     },
     "execution_count": 30,
     "metadata": {},
     "output_type": "execute_result"
    }
   ],
   "source": [
    "kp.symmetric_hamiltonian(\n",
    "    c_2y,\n",
    "    inversion,\n",
    "    time_reversal,\n",
    "    expr_basis=kp.monomial_basis(*range(3)),\n",
    "    repr_basis=kp.hermitian_basis(4))"
   ]
  },
  {
   "cell_type": "markdown",
   "metadata": {},
   "source": [
    "As a result, calculating the k.p model in this way becomes unfeasible when the system grows too large. This could probably be improved by optimizing the code such that the computational basis is always minimal w.r.t. the already evaluated symmetries."
   ]
  }
 ],
 "metadata": {
  "kernelspec": {
   "display_name": "tools_intro",
   "language": "python",
   "name": "tools_intro"
  },
  "language_info": {
   "codemirror_mode": {
    "name": "ipython",
    "version": 3
   },
   "file_extension": ".py",
   "mimetype": "text/x-python",
   "name": "python",
   "nbconvert_exporter": "python",
   "pygments_lexer": "ipython3",
   "version": "3.6.7"
  }
 },
 "nbformat": 4,
 "nbformat_minor": 2
}
